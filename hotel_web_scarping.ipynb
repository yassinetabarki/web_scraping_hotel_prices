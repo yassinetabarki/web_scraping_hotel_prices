{
  "nbformat": 4,
  "nbformat_minor": 0,
  "metadata": {
    "colab": {
      "name": "hotel_web_scarping.ipynb",
      "provenance": [],
      "collapsed_sections": [],
      "include_colab_link": true
    },
    "kernelspec": {
      "name": "python3",
      "display_name": "Python 3"
    }
  },
  "cells": [
    {
      "cell_type": "markdown",
      "metadata": {
        "id": "view-in-github",
        "colab_type": "text"
      },
      "source": [
        "<a href=\"https://colab.research.google.com/github/yassinetabarki/web_scraping_hotel_prices/blob/main/hotel_web_scarping.ipynb\" target=\"_parent\"><img src=\"https://colab.research.google.com/assets/colab-badge.svg\" alt=\"Open In Colab\"/></a>"
      ]
    },
    {
      "cell_type": "code",
      "metadata": {
        "id": "Qu9xbG4Radh7"
      },
      "source": [
        "import requests as re\n",
        "from bs4 import BeautifulSoup as bs"
      ],
      "execution_count": null,
      "outputs": []
    },
    {
      "cell_type": "code",
      "metadata": {
        "id": "IBMzImxfastX"
      },
      "source": [
        "url=\"http://www.promohotel.tn/\"\n",
        "r=re.get(url)\n",
        "soup=bs(r.content)\n"
      ],
      "execution_count": null,
      "outputs": []
    },
    {
      "cell_type": "code",
      "metadata": {
        "colab": {
          "base_uri": "https://localhost:8080/"
        },
        "id": "gPE4mOK9LOkN",
        "outputId": "f97617c1-6ab2-40ae-929d-0c87d3bcd4a0"
      },
      "source": [
        "states=soup.find(\"div\",attrs={\"class\":\"wrapsubnav\"})\n",
        "# get the state url \n",
        "states_url=[hot[\"href\"] for hot in states.select(\"ul > li > a\")]\n",
        "# get the state name \n",
        "states=[hot.get_text() for hot in states.select(\"ul > li > a\")]\n",
        "states"
      ],
      "execution_count": null,
      "outputs": [
        {
          "output_type": "stream",
          "text": [
            "/hotels/city/1/Djerba\n"
          ],
          "name": "stdout"
        },
        {
          "output_type": "execute_result",
          "data": {
            "text/plain": [
              "['Djerba',\n",
              " 'Gammarth',\n",
              " 'Hammamet',\n",
              " 'kelibia',\n",
              " 'Mahdia',\n",
              " 'Monastir',\n",
              " 'Nabeul',\n",
              " 'Sfax',\n",
              " 'Sousse',\n",
              " 'Tabarka',\n",
              " 'Tataouine',\n",
              " 'Tozeur et Nefta',\n",
              " 'Tunis',\n",
              " 'Zarzis']"
            ]
          },
          "metadata": {
            "tags": []
          },
          "execution_count": 16
        }
      ]
    },
    {
      "cell_type": "code",
      "metadata": {
        "colab": {
          "base_uri": "https://localhost:8080/"
        },
        "id": "Q0DRHNsjPsh4",
        "outputId": "44c236ba-e50a-4ff0-9e9e-67970785a3c3"
      },
      "source": [
        "#\n",
        "hoteln=[]\n",
        "hotelp=[]\n",
        "for i in range(len(states)):\n",
        "  p=re.get(url+states_url[i])\n",
        "  pageweb=bs(p.content)\n",
        "  hotel_info=pageweb.find_all(\"div\",attrs={\"class\":\"info-hotel\"})\n",
        "\n",
        "# search for a hotel name\n",
        "  for v in hotel_info:\n",
        "    hotel_name=v.find(\"div\",attrs={\"class\":\"info-center\"})\n",
        "\n",
        "    hotel_name=hotel_name.find(\"a\").get_text()\n",
        "    hoteln.append(hotel_name)\n",
        "\n",
        "    hotel_price=v.find(\"div\",attrs={\"class\":\"price\"})\n",
        "    hotel_price= hotel_price.get_text()\n",
        "    \n",
        "    hotel_price=(hotel_price[3:]).replace(\" \",\"\")\n",
        "    hotel_price=hotel_price.replace(\",\",\"\")\n",
        "    hotelp.append(hotel_price)\n",
        "\n",
        "hoteln+hotelp"
      ],
      "execution_count": null,
      "outputs": [
        {
          "output_type": "execute_result",
          "data": {
            "text/plain": [
              "['HOTEL IBEROSTAR  MEHARI DJERBA',\n",
              " 'HOTEL WELCOME MERIDIANA DJERBA',\n",
              " 'HOTEL KSAR DJERBA',\n",
              " 'SEABEL RYM BEACH DJERBA',\n",
              " 'HOTEL CARIBBEAN WORLD DJERBA ',\n",
              " 'HOTEL CALIMERA YATI BEACH',\n",
              " 'HOTEL ACQUA VIVA GAMMARTH',\n",
              " 'HOTEL PHEBUS GAMMARTH',\n",
              " 'HOTEL RAMADA PLAZA GAMMARTH',\n",
              " 'HOTEL REGENCY GAMMARTH',\n",
              " 'CARTHAGE THALASSO RESORT',\n",
              " 'HOTEL THE RESIDENCE TUNIS',\n",
              " 'HOTEL MENARA HAMMAMET ',\n",
              " 'HOTEL GREEN GOLF',\n",
              " 'HOTEL AZIZA BEACH Golf & SPA (Adults Only)',\n",
              " 'HOTEL REGENCY BEACH HAMMAMET',\n",
              " 'HOTEL HOUDA YASMINE HAMMAMET',\n",
              " 'HOTEL IBEROSTAR AVERROES',\n",
              " 'HOTEL KELIBIA BEACH & SPA',\n",
              " 'HOTEL LTI  MAHDIA BEACH & AQUAPARK',\n",
              " 'HOTEL CLUB THAPSUS',\n",
              " 'HOTEL MAHDIA PALACE & THALASSO',\n",
              " 'HOTEL PRIMASOL EL MEHDI',\n",
              " ' EL MOURADI MAHDIA',\n",
              " 'One Resort EL MANSOUR MAHDIA',\n",
              " 'NEROLIA HOTEL & SPA MONASTIR',\n",
              " 'MAGIC HOTEL SKANES ',\n",
              " 'ROYAL THALASSA MONASTIR (ADULTS ONLY)',\n",
              " 'HOTEL ONE RESORT AQUAPARK & SPA',\n",
              " 'MY HOTEL GARDEN BEACH',\n",
              " 'HOTEL RAMADA LIBERTY RESORT',\n",
              " 'HOTEL KHAYAM GARDEN BEACH & SPA',\n",
              " 'HOTEL KHEOPS NABEUL',\n",
              " 'HOTEL BYZANCE NABEUL',\n",
              " 'HOTEL ROYAL LIDO RESORT & SPA',\n",
              " 'HOTEL PALAIS ROYAL SFAX ',\n",
              " 'BUSINESS HOTEL SFAX',\n",
              " 'HOTEL LES OLIVIERS PALACE SFAX',\n",
              " 'HOTEL SANGHO SYPHAX',\n",
              " 'HOTEL IBIS SFAX',\n",
              " 'HOTEL BORJ DHIAFA SFAX',\n",
              " 'HOTEL MIRAMAR GOLF KANTAOUI ',\n",
              " 'HOTEL EL KSAR RESORT & THALASSO',\n",
              " 'HOTEL MARHABA ROYAL SALEM',\n",
              " 'HOTEL HANNIBAL PALACE',\n",
              " 'HOTEL RIADH PALMS SOUSSE',\n",
              " 'HOTEL MARHABA BEACH SOUSSE',\n",
              " 'HOTEL LES MIMOSAS',\n",
              " 'HOTEL ITROPIKA TABARKA',\n",
              " 'HOTEL DAR ISMAIL TABARKA',\n",
              " 'HOTEL THABRACA THALASSO & DIVING',\n",
              " 'HOTEL LA CIGALE TABARKA',\n",
              " 'HOTEL EL MOURADI HAMMAM BOURGUIBA',\n",
              " 'HOTEL DAKYANUS TATAOUINE',\n",
              " 'HOTEL SANGHO PRIVILEGE TATAOUINE',\n",
              " 'HOTEL RAS El AIN TOZEUR',\n",
              " 'HOTEL LA PALMERAIE TOZEUR',\n",
              " 'HOTEL  KSAR ROUGE TOZEUR',\n",
              " 'HOTEL KSAR EL JERID TOZEUR',\n",
              " 'HOTEL PALM BEACH PALACE TOZEUR',\n",
              " 'DAR HI-LIFE NEFTA',\n",
              " 'HOTEL ROYAL VICTORIA',\n",
              " 'HOTEL GOLDEN TULIP EL MECHTEL',\n",
              " 'BUSINESS HOTELS  TUNIS',\n",
              " 'THE PENTHOUSE SUITES HOTEL',\n",
              " 'HOTEL NOVOTEL TUNIS',\n",
              " 'HOTEL MAJESTIC TUNIS',\n",
              " 'HOTEL VINCCI SAFIRA PALMS ',\n",
              " 'HOTEL EDEN STAR ',\n",
              " 'HOTEL ZITA BEACH & RESORT',\n",
              " 'HOTEL & CLUB LELLA MERIAM',\n",
              " 'HOTEL ODYSSEE RESORT & THALASSO ',\n",
              " '59850',\n",
              " '66000',\n",
              " '66500',\n",
              " '68000',\n",
              " '75000',\n",
              " '78000',\n",
              " '72000',\n",
              " '82000',\n",
              " '150000',\n",
              " '162000',\n",
              " 'Selondemande',\n",
              " 'Selondemande',\n",
              " '25100',\n",
              " '37000',\n",
              " '37800',\n",
              " '46500',\n",
              " '59000',\n",
              " '59850',\n",
              " 'Selondemande',\n",
              " '41000',\n",
              " '57000',\n",
              " '67000',\n",
              " 'Selondemande',\n",
              " 'Selondemande',\n",
              " 'Selondemande',\n",
              " '46000',\n",
              " '118500',\n",
              " '142000',\n",
              " 'Selondemande',\n",
              " 'Selondemande',\n",
              " 'Selondemande',\n",
              " 'Selondemande',\n",
              " 'Selondemande',\n",
              " 'Selondemande',\n",
              " 'Selondemande',\n",
              " '103500',\n",
              " '120000',\n",
              " '168000',\n",
              " 'Selondemande',\n",
              " 'Selondemande',\n",
              " 'Selondemande',\n",
              " '40000',\n",
              " '42500',\n",
              " '50150',\n",
              " '52000',\n",
              " '60030',\n",
              " '62000',\n",
              " '47000',\n",
              " '48000',\n",
              " '55500',\n",
              " '66150',\n",
              " '218650',\n",
              " 'Selondemande',\n",
              " '85000',\n",
              " 'Selondemande',\n",
              " '82500',\n",
              " '82500',\n",
              " '83000',\n",
              " '97200',\n",
              " '105300',\n",
              " '143000',\n",
              " '135000',\n",
              " '138000',\n",
              " '145000',\n",
              " '159000',\n",
              " '220000',\n",
              " 'Selondemande',\n",
              " 'Selondemande',\n",
              " 'Selondemande',\n",
              " 'Selondemande',\n",
              " 'Selondemande',\n",
              " 'Selondemande']"
            ]
          },
          "metadata": {
            "tags": []
          },
          "execution_count": 92
        }
      ]
    },
    {
      "cell_type": "code",
      "metadata": {
        "colab": {
          "base_uri": "https://localhost:8080/",
          "height": 419
        },
        "id": "tTvXTup92SZd",
        "outputId": "bede389e-931a-4a94-f82b-c1eb876a4dbf"
      },
      "source": [
        "import pandas as pd\r\n",
        "from random import randint\r\n",
        "dfp=pd.DataFrame(data=hotelp,columns=['price'])\r\n",
        "dfn=pd.DataFrame(data=hoteln,columns=['hotel name'])\r\n",
        "df=pd.concat([dfn,dfp],axis=1)\r\n",
        "df['price'] = pd.to_numeric(df['price'], errors='coerce')\r\n",
        "df\r\n"
      ],
      "execution_count": 96,
      "outputs": [
        {
          "output_type": "execute_result",
          "data": {
            "text/html": [
              "<div>\n",
              "<style scoped>\n",
              "    .dataframe tbody tr th:only-of-type {\n",
              "        vertical-align: middle;\n",
              "    }\n",
              "\n",
              "    .dataframe tbody tr th {\n",
              "        vertical-align: top;\n",
              "    }\n",
              "\n",
              "    .dataframe thead th {\n",
              "        text-align: right;\n",
              "    }\n",
              "</style>\n",
              "<table border=\"1\" class=\"dataframe\">\n",
              "  <thead>\n",
              "    <tr style=\"text-align: right;\">\n",
              "      <th></th>\n",
              "      <th>hotel name</th>\n",
              "      <th>price</th>\n",
              "    </tr>\n",
              "  </thead>\n",
              "  <tbody>\n",
              "    <tr>\n",
              "      <th>0</th>\n",
              "      <td>HOTEL IBEROSTAR  MEHARI DJERBA</td>\n",
              "      <td>59850.0</td>\n",
              "    </tr>\n",
              "    <tr>\n",
              "      <th>1</th>\n",
              "      <td>HOTEL WELCOME MERIDIANA DJERBA</td>\n",
              "      <td>66000.0</td>\n",
              "    </tr>\n",
              "    <tr>\n",
              "      <th>2</th>\n",
              "      <td>HOTEL KSAR DJERBA</td>\n",
              "      <td>66500.0</td>\n",
              "    </tr>\n",
              "    <tr>\n",
              "      <th>3</th>\n",
              "      <td>SEABEL RYM BEACH DJERBA</td>\n",
              "      <td>68000.0</td>\n",
              "    </tr>\n",
              "    <tr>\n",
              "      <th>4</th>\n",
              "      <td>HOTEL CARIBBEAN WORLD DJERBA</td>\n",
              "      <td>75000.0</td>\n",
              "    </tr>\n",
              "    <tr>\n",
              "      <th>...</th>\n",
              "      <td>...</td>\n",
              "      <td>...</td>\n",
              "    </tr>\n",
              "    <tr>\n",
              "      <th>67</th>\n",
              "      <td>HOTEL VINCCI SAFIRA PALMS</td>\n",
              "      <td>NaN</td>\n",
              "    </tr>\n",
              "    <tr>\n",
              "      <th>68</th>\n",
              "      <td>HOTEL EDEN STAR</td>\n",
              "      <td>NaN</td>\n",
              "    </tr>\n",
              "    <tr>\n",
              "      <th>69</th>\n",
              "      <td>HOTEL ZITA BEACH &amp; RESORT</td>\n",
              "      <td>NaN</td>\n",
              "    </tr>\n",
              "    <tr>\n",
              "      <th>70</th>\n",
              "      <td>HOTEL &amp; CLUB LELLA MERIAM</td>\n",
              "      <td>NaN</td>\n",
              "    </tr>\n",
              "    <tr>\n",
              "      <th>71</th>\n",
              "      <td>HOTEL ODYSSEE RESORT &amp; THALASSO</td>\n",
              "      <td>NaN</td>\n",
              "    </tr>\n",
              "  </tbody>\n",
              "</table>\n",
              "<p>72 rows × 2 columns</p>\n",
              "</div>"
            ],
            "text/plain": [
              "                          hotel name    price\n",
              "0     HOTEL IBEROSTAR  MEHARI DJERBA  59850.0\n",
              "1     HOTEL WELCOME MERIDIANA DJERBA  66000.0\n",
              "2                  HOTEL KSAR DJERBA  66500.0\n",
              "3            SEABEL RYM BEACH DJERBA  68000.0\n",
              "4      HOTEL CARIBBEAN WORLD DJERBA   75000.0\n",
              "..                               ...      ...\n",
              "67        HOTEL VINCCI SAFIRA PALMS       NaN\n",
              "68                  HOTEL EDEN STAR       NaN\n",
              "69         HOTEL ZITA BEACH & RESORT      NaN\n",
              "70         HOTEL & CLUB LELLA MERIAM      NaN\n",
              "71  HOTEL ODYSSEE RESORT & THALASSO       NaN\n",
              "\n",
              "[72 rows x 2 columns]"
            ]
          },
          "metadata": {
            "tags": []
          },
          "execution_count": 96
        }
      ]
    }
  ]
}