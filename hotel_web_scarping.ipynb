{
  "nbformat": 4,
  "nbformat_minor": 0,
  "metadata": {
    "colab": {
      "name": "hotel_web_scarping.ipynb",
      "provenance": [],
      "collapsed_sections": [],
      "include_colab_link": true
    },
    "kernelspec": {
      "name": "python3",
      "display_name": "Python 3"
    }
  },
  "cells": [
    {
      "cell_type": "markdown",
      "metadata": {
        "id": "view-in-github",
        "colab_type": "text"
      },
      "source": [
        "<a href=\"https://colab.research.google.com/github/yassinetbarki/web_scraping_hotel_prices/blob/main/hotel_web_scarping.ipynb\" target=\"_parent\"><img src=\"https://colab.research.google.com/assets/colab-badge.svg\" alt=\"Open In Colab\"/></a>"
      ]
    },
    {
      "cell_type": "code",
      "metadata": {
        "id": "Qu9xbG4Radh7"
      },
      "source": [
        "import requests as re\n",
        "from bs4 import BeautifulSoup as bs"
      ],
      "execution_count": null,
      "outputs": []
    },
    {
      "cell_type": "code",
      "metadata": {
        "id": "IBMzImxfastX"
      },
      "source": [
        "url=\"http://www.promohotel.tn/\"\n",
        "r=re.get(url)\n",
        "soup=bs(r.content)\n"
      ],
      "execution_count": null,
      "outputs": []
    },
    {
      "cell_type": "code",
      "metadata": {
        "colab": {
          "base_uri": "https://localhost:8080/"
        },
        "id": "gPE4mOK9LOkN",
        "outputId": "a073921e-266b-4eb2-8356-d36a21621c11"
      },
      "source": [
        "states=soup.find(\"div\",attrs={\"class\":\"wrapsubnav\"})\n",
        "# get the state url \n",
        "states_url=[hot[\"href\"] for hot in states.select(\"ul > li > a\")]\n",
        "# get the state name \n",
        "states=[hot.get_text() for hot in states.select(\"ul > li > a\")]\n",
        "states"
      ],
      "execution_count": null,
      "outputs": [
        {
          "output_type": "execute_result",
          "data": {
            "text/plain": [
              "['Djerba',\n",
              " 'Gammarth',\n",
              " 'Hammamet',\n",
              " 'kelibia',\n",
              " 'Mahdia',\n",
              " 'Monastir',\n",
              " 'Nabeul',\n",
              " 'Sfax',\n",
              " 'Sousse',\n",
              " 'Tabarka',\n",
              " 'Tataouine',\n",
              " 'Tozeur et Nefta',\n",
              " 'Tunis',\n",
              " 'Zarzis']"
            ]
          },
          "metadata": {
            "tags": []
          },
          "execution_count": 4
        }
      ]
    },
    {
      "cell_type": "code",
      "metadata": {
        "colab": {
          "base_uri": "https://localhost:8080/"
        },
        "id": "Q0DRHNsjPsh4",
        "outputId": "ef3caf3f-e463-417c-ef26-adc3876e814b"
      },
      "source": [
        "# \n",
        "p=re.get(url+states_url[0])\n",
        "pageweb=bs(p.content)\n",
        "hotel_info=pageweb.find_all(\"div\",attrs={\"class\":\"info-hotel\"})\n",
        "\n",
        "# search for a hotel name\n",
        "hoteln=[]\n",
        "hotelp=[]\n",
        "for v in hotel_info:\n",
        "  hotel_name=v.find(\"div\",attrs={\"class\":\"info-center\"})\n",
        "\n",
        "  hotel_name=hotel_name.find(\"a\").get_text()\n",
        "  hoteln.append(hotel_name)\n",
        "\n",
        "  hotel_price=v.find(\"div\",attrs={\"class\":\"price\"})\n",
        "\n",
        "  hotel_price=hotel_price.get_text()\n",
        "\n",
        "  hotel_price=(hotel_price[3:]).replace(\" \",\"\")\n",
        "  hotelp.append(hotel_price)\n",
        "\n",
        "hotelp+hoteln"
      ],
      "execution_count": null,
      "outputs": [
        {
          "output_type": "execute_result",
          "data": {
            "text/plain": [
              "['44,500',\n",
              " '56,800',\n",
              " '59,850',\n",
              " '65,000',\n",
              " '71,000',\n",
              " '72,000',\n",
              " 'HOTEL JOYA PARADISE DJERBA',\n",
              " 'EL MOURADI DJERBA MENZEL',\n",
              " 'HOTEL IBEROSTAR  MEHARI DJERBA',\n",
              " 'HOTEL CARIBBEAN WORLD DJERBA ',\n",
              " 'SEABEL RYM BEACH DJERBA',\n",
              " 'HOTEL SENTIDO DJERBA BEACH']"
            ]
          },
          "metadata": {
            "tags": []
          },
          "execution_count": 27
        }
      ]
    }
  ]
}